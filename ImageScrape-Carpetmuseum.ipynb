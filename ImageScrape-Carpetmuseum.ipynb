{
 "cells": [
  {
   "cell_type": "code",
   "execution_count": 15,
   "id": "fb32442e",
   "metadata": {},
   "outputs": [],
   "source": [
    "import requests\n",
    "from bs4 import BeautifulSoup\n",
    "import os"
   ]
  },
  {
   "cell_type": "code",
   "execution_count": 18,
   "id": "cb3f04c7",
   "metadata": {},
   "outputs": [],
   "source": [
    "url_type_1 = ['https://azcarpetmuseum.az/az/collection/21','https://azcarpetmuseum.az/az/collection/21?page=2','https://azcarpetmuseum.az/az/collection/21?page=3']"
   ]
  },
  {
   "cell_type": "code",
   "execution_count": 19,
   "id": "dd107c60",
   "metadata": {},
   "outputs": [
    {
     "data": {
      "text/plain": [
       "['https://azcarpetmuseum.az/az/collection/21',\n",
       " 'https://azcarpetmuseum.az/az/collection/21?page=2',\n",
       " 'https://azcarpetmuseum.az/az/collection/21?page=3']"
      ]
     },
     "execution_count": 19,
     "metadata": {},
     "output_type": "execute_result"
    }
   ],
   "source": [
    "url_type_1"
   ]
  },
  {
   "cell_type": "code",
   "execution_count": 20,
   "id": "3d4455d5",
   "metadata": {},
   "outputs": [],
   "source": [
    "response = requests.get(url)\n",
    "soup = BeautifulSoup(response.text, \"html.parser\")\n",
    "\n",
    "for url in url_type_1:\n",
    "    response = requests.get(url)\n",
    "    soup = BeautifulSoup(response.text, \"html.parser\")\n",
    "\n",
    "    for img in soup.find_all(\"img\"):\n",
    "        img_url = img.get(\"src\")\n",
    "        response = requests.get(img_url)\n",
    "        file_name = os.path.join(folder_path, img_url.split(\"/\")[-1])\n",
    "        with open(file_name, \"wb\") as f:\n",
    "            f.write(response.content)\n"
   ]
  },
  {
   "cell_type": "code",
   "execution_count": 13,
   "id": "e2324e3b",
   "metadata": {},
   "outputs": [
    {
     "name": "stdout",
     "output_type": "stream",
     "text": [
      "['https://azcarpetmuseum.az/az/collection/22?page=1', 'https://azcarpetmuseum.az/az/collection/22?page=2', 'https://azcarpetmuseum.az/az/collection/22?page=3', 'https://azcarpetmuseum.az/az/collection/22?page=4', 'https://azcarpetmuseum.az/az/collection/22?page=5', 'https://azcarpetmuseum.az/az/collection/22?page=6', 'https://azcarpetmuseum.az/az/collection/22?page=7']\n"
     ]
    }
   ],
   "source": [
    "base_url = 'https://azcarpetmuseum.az/az/collection/22?page='\n",
    "urls = [base_url + str(i) for i in range(1, 8)]\n",
    "\n",
    "print(urls)\n"
   ]
  },
  {
   "cell_type": "code",
   "execution_count": 17,
   "id": "b6778ac6",
   "metadata": {},
   "outputs": [],
   "source": [
    "folder_path = \"images\"\n",
    "if not os.path.exists(folder_path):\n",
    "    os.makedirs(folder_path)\n",
    "for url in urls:\n",
    "\n",
    " \n",
    "    response = requests.get(url)\n",
    "    soup = BeautifulSoup(response.text, \"html.parser\")\n",
    "\n",
    "    for img in soup.find_all(\"img\"):\n",
    "        img_url = img.get(\"src\")\n",
    "        response = requests.get(img_url)\n",
    "        file_name = os.path.join(folder_path, img_url.split(\"/\")[-1])\n",
    "        with open(file_name, \"wb\") as f:\n",
    "            f.write(response.content)\n"
   ]
  },
  {
   "cell_type": "code",
   "execution_count": null,
   "id": "9148623e",
   "metadata": {},
   "outputs": [],
   "source": []
  }
 ],
 "metadata": {
  "kernelspec": {
   "display_name": "Python 3 (ipykernel)",
   "language": "python",
   "name": "python3"
  },
  "language_info": {
   "codemirror_mode": {
    "name": "ipython",
    "version": 3
   },
   "file_extension": ".py",
   "mimetype": "text/x-python",
   "name": "python",
   "nbconvert_exporter": "python",
   "pygments_lexer": "ipython3",
   "version": "3.8.8"
  }
 },
 "nbformat": 4,
 "nbformat_minor": 5
}
